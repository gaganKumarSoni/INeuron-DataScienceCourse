{
 "cells": [
  {
   "cell_type": "code",
   "execution_count": null,
   "id": "83840dd9",
   "metadata": {},
   "outputs": [],
   "source": [
    "1. What is the result of the code, and explain?\n",
    ">>> X = 'iNeuron'\n",
    ">>> def func():\n",
    "        print(X)\n",
    ">>> func()\n",
    "\n",
    "O/P: iNeuron\n",
    "Ans:The Result of this code is iNeuron. it is because the function intially looks for the variable X in its local scope but \n",
    "    since there is no local variable X, it returns the value of global variable X i.e iNeuron."
   ]
  },
  {
   "cell_type": "code",
   "execution_count": null,
   "id": "397431d5",
   "metadata": {},
   "outputs": [],
   "source": [
    "2. What is the result of the code, and explain?\n",
    ">>> X = 'iNeuron'\n",
    ">>> def func():\n",
    "        X = 'NI!'\n",
    ">>> func()\n",
    ">>> print(X)\n",
    "\n",
    "O/P: NI!\n",
    "Ans:The Result of this code is NI! because the function initially looks for the variable X in its local scope. If X is not \n",
    "    available, then it checks for variable X in the global scope. Since here the X is present in the local scope, it directly \n",
    "    prints the value NI! and does not look for a variable in global scope."
   ]
  },
  {
   "cell_type": "code",
   "execution_count": null,
   "id": "07d98a3d",
   "metadata": {},
   "outputs": [],
   "source": [
    "3. What does this code print, and why?\n",
    ">>> X = 'iNeuron'\n",
    ">>> def func():\n",
    "        X = 'NI'\n",
    "        print(X)\n",
    ">>> func()\n",
    ">>> print(X)\n",
    "\n",
    "O/P: NI\n",
    "     iNeuron\n",
    "Ans:The output of the code is NI and iNeuron. X=NI is in the local scope of the function func(). Hence the function prints the \n",
    "    x value as NI. X = 'iNeuron' is in the global scope. Hence print(X) prints output as iNeuron"
   ]
  },
  {
   "cell_type": "code",
   "execution_count": null,
   "id": "a16354c4",
   "metadata": {},
   "outputs": [],
   "source": [
    "4. What output does this code produce? Why?\n",
    ">>> X = 'iNeuron'\n",
    ">>> def func():\n",
    "        global X\n",
    "        X = 'NI'\n",
    ">>> func()\n",
    ">>> print(X)\n",
    "\n",
    "O/P: NI\n",
    "Ans:The output of the code is NI. The global keyword allows a variable to be accessible in the current scope. Since we are using\n",
    "    global keyword inside the function func, it directly accesses the variable in X in global scope and changes its value to NI."
   ]
  },
  {
   "cell_type": "code",
   "execution_count": null,
   "id": "1c253e07",
   "metadata": {},
   "outputs": [],
   "source": [
    "5. What about this code—what’s the output, and why?\n",
    ">>> X = 'iNeuron'\n",
    ">>> def func():\n",
    "        X = 'NI'\n",
    "        def nested():\n",
    "            print(X)\n",
    "        nested()\n",
    ">>> func()\n",
    ">>> X\n",
    "\n",
    "O/P: NI\n",
    "     iNeuron\n",
    "Ans:The output of the code is NI and iNeuron. Output of func() is 'NI' because it has a variable X as 'NI' in its local scope\n",
    "    whereas Output of X is 'iNeuron' because it refers to variable X that is having global scope instead of referring to a \n",
    "    variable having a local scope in a function."
   ]
  },
  {
   "cell_type": "code",
   "execution_count": null,
   "id": "0853e7af",
   "metadata": {},
   "outputs": [],
   "source": [
    "6. How about this code: what is its output in Python 3, and explain?\n",
    ">>> def func():\n",
    "        X = 'NI'\n",
    "        def nested():\n",
    "            nonlocal X\n",
    "            X = 'Spam'\n",
    "        nested()\n",
    "        print(X)\n",
    ">>> func()\n",
    "\n",
    "O/P: Spam\n",
    "Ans:The output of the code is Spam. nonlocal keyword in python is used to declare a variable as not local.Hence the statement \n",
    "    X = \"Spam\" is modified in the global scope. Hence the output of print(X) statement is Spam"
   ]
  }
 ],
 "metadata": {
  "kernelspec": {
   "display_name": "Python 3 (ipykernel)",
   "language": "python",
   "name": "python3"
  },
  "language_info": {
   "codemirror_mode": {
    "name": "ipython",
    "version": 3
   },
   "file_extension": ".py",
   "mimetype": "text/x-python",
   "name": "python",
   "nbconvert_exporter": "python",
   "pygments_lexer": "ipython3",
   "version": "3.9.7"
  }
 },
 "nbformat": 4,
 "nbformat_minor": 5
}
