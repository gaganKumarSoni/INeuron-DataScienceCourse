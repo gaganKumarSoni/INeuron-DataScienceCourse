{
 "cells": [
  {
   "cell_type": "code",
   "execution_count": null,
   "id": "b80829b6",
   "metadata": {},
   "outputs": [],
   "source": [
    "1. Why are functions advantageous to have in your programs?\n",
    "Ans: Increase Reusability of code"
   ]
  },
  {
   "cell_type": "code",
   "execution_count": null,
   "id": "a5c5ecd2",
   "metadata": {},
   "outputs": [],
   "source": [
    "2. When does the code in a function run: when it's specified or when it's called?\n",
    "Ans: Function run on \"when it's called\""
   ]
  },
  {
   "cell_type": "code",
   "execution_count": null,
   "id": "67324def",
   "metadata": {},
   "outputs": [],
   "source": [
    "3. What statement creates a function?\n",
    "Ans: using 'def' keyword followed by function name and open and close parenthesis"
   ]
  },
  {
   "cell_type": "code",
   "execution_count": null,
   "id": "90517c60",
   "metadata": {},
   "outputs": [],
   "source": [
    "4. What is the difference between a function and a function call?\n",
    "Ans: Function is set of instruction whereas Function call is execution of pre written instruction"
   ]
  },
  {
   "cell_type": "code",
   "execution_count": null,
   "id": "5c0e3880",
   "metadata": {},
   "outputs": [],
   "source": [
    "5. How many global scopes are there in a Python program? How many local scopes?\n",
    "Ans: Global scope: 1 until program termination. Local scope: n number depends on function used in program"
   ]
  },
  {
   "cell_type": "code",
   "execution_count": null,
   "id": "b7fc0e7e",
   "metadata": {},
   "outputs": [],
   "source": [
    "6. What happens to variables in a local scope when the function call returns?\n",
    "Ans: After return call all local scope variable undefined"
   ]
  },
  {
   "cell_type": "code",
   "execution_count": null,
   "id": "09d00aed",
   "metadata": {},
   "outputs": [],
   "source": [
    "7. What is the concept of a return value? Is it possible to have a return value in an expression?\n",
    "Ans: Its a value which we get after completinng the execution of function, if nothing specified then None return. \n",
    "     Yes its possible to have return value in expression"
   ]
  },
  {
   "cell_type": "code",
   "execution_count": null,
   "id": "1431b2dd",
   "metadata": {},
   "outputs": [],
   "source": [
    "8. If a function does not have a return statement, what is the return value of a call to that function?\n",
    "Ans: None value returned implicitly in python"
   ]
  },
  {
   "cell_type": "code",
   "execution_count": null,
   "id": "6fc0e54a",
   "metadata": {},
   "outputs": [],
   "source": [
    "9. How do you make a function variable refer to the global variable?\n",
    "Ans: By using global keyword prior to declare variable"
   ]
  },
  {
   "cell_type": "code",
   "execution_count": null,
   "id": "dd393d7b",
   "metadata": {},
   "outputs": [],
   "source": [
    "10. What is the data type of None?\n",
    "Ans: NoneType"
   ]
  },
  {
   "cell_type": "code",
   "execution_count": null,
   "id": "5ca5ade2",
   "metadata": {},
   "outputs": [],
   "source": [
    "11. What does the sentence import areallyourpetsnamederic do?\n",
    "Ans: It will import all the modules, function and global variable present inside areallyourpetsnamederic library"
   ]
  },
  {
   "cell_type": "code",
   "execution_count": null,
   "id": "99a6e120",
   "metadata": {},
   "outputs": [],
   "source": [
    "12. If you had a bacon() feature in a spam module, what would you call it after importing spam?\n",
    "Ans: spam.bacon()"
   ]
  },
  {
   "cell_type": "code",
   "execution_count": null,
   "id": "7e7f7f68",
   "metadata": {},
   "outputs": [],
   "source": [
    "13. What can you do to save a programme from crashing if it encounters an error?\n",
    "Ans: By using try and except statement which will execute program written in except block in case of crashing."
   ]
  },
  {
   "cell_type": "code",
   "execution_count": null,
   "id": "a361f896",
   "metadata": {},
   "outputs": [],
   "source": [
    "14. What is the purpose of the try clause? What is the purpose of the except clause?\n",
    "Ans: try clause use to detect the error in code. Purpose of except caluse is to catch exception if its detect by try block and \n",
    "     to avoid program from crashing."
   ]
  }
 ],
 "metadata": {
  "kernelspec": {
   "display_name": "Python 3 (ipykernel)",
   "language": "python",
   "name": "python3"
  },
  "language_info": {
   "codemirror_mode": {
    "name": "ipython",
    "version": 3
   },
   "file_extension": ".py",
   "mimetype": "text/x-python",
   "name": "python",
   "nbconvert_exporter": "python",
   "pygments_lexer": "ipython3",
   "version": "3.9.7"
  }
 },
 "nbformat": 4,
 "nbformat_minor": 5
}
