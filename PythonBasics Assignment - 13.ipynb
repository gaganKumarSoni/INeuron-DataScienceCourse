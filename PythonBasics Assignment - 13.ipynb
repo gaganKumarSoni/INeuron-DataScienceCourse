{
 "cells": [
  {
   "cell_type": "code",
   "execution_count": null,
   "id": "48bc6709",
   "metadata": {},
   "outputs": [],
   "source": [
    "1. What advantages do Excel spreadsheets have over CSV spreadsheets?\n",
    "Ans: CSV file cant perform operations on data while Excel can perform operations on the data\n",
    "     CSV files are faster and also consumes less memory whereas Excel consumes more"
   ]
  },
  {
   "cell_type": "code",
   "execution_count": null,
   "id": "b1a6f161",
   "metadata": {},
   "outputs": [],
   "source": [
    "2.What do you pass to csv.reader() and csv.writer() to create reader and writer objects?\n",
    "Ans: Rference to .csv file in read and write mode to create reader and writer objects\n",
    "        import csv\n",
    "        #Redaer Object\n",
    "        with open('demo.csv', mode='r') as file:\n",
    "            reader_object = csv.reader(file, delimeter='\\t')\n",
    "        #Writer Object\n",
    "        with open('demo.csv', mode='w') as file:\n",
    "            writer_object = csv.writer(file, delimeter='\\t')"
   ]
  },
  {
   "cell_type": "code",
   "execution_count": null,
   "id": "4ff5aee8",
   "metadata": {},
   "outputs": [],
   "source": [
    "3. What modes do File objects for reader and writer objects need to be opened in?\n",
    "Ans: Read binary and write binary mode."
   ]
  },
  {
   "cell_type": "code",
   "execution_count": null,
   "id": "32ebf061",
   "metadata": {},
   "outputs": [],
   "source": [
    "4. What method takes a list argument and writes it to a CSV file?\n",
    "Ans: csv.writer.writerow() method of csv module."
   ]
  },
  {
   "cell_type": "code",
   "execution_count": null,
   "id": "7c1b92a7",
   "metadata": {},
   "outputs": [],
   "source": [
    "5. What do the keyword arguments delimiter and line terminator do?\n",
    "Ans: Delimiter helps to specify that CSV file should have given delimeter\n",
    "     LineTerminator is used to specify when to terminate line when using csv writer object. By default \"\\r and \\n\" are used."
   ]
  },
  {
   "cell_type": "code",
   "execution_count": null,
   "id": "da3d0223",
   "metadata": {},
   "outputs": [],
   "source": [
    "6. What function takes a string of JSON data and returns a Python data structure?\n",
    "Ans: json.loads() function from json module."
   ]
  },
  {
   "cell_type": "code",
   "execution_count": null,
   "id": "7ea70f93",
   "metadata": {},
   "outputs": [],
   "source": [
    "7. What function takes a Python data structure and returns a string of JSON data?\n",
    "Ans: json.dumps()  function takes dictionary data structure and convert it to string JSON data object."
   ]
  }
 ],
 "metadata": {
  "kernelspec": {
   "display_name": "Python 3 (ipykernel)",
   "language": "python",
   "name": "python3"
  },
  "language_info": {
   "codemirror_mode": {
    "name": "ipython",
    "version": 3
   },
   "file_extension": ".py",
   "mimetype": "text/x-python",
   "name": "python",
   "nbconvert_exporter": "python",
   "pygments_lexer": "ipython3",
   "version": "3.9.7"
  }
 },
 "nbformat": 4,
 "nbformat_minor": 5
}
