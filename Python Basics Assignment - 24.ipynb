{
 "cells": [
  {
   "cell_type": "code",
   "execution_count": null,
   "id": "527c4ade",
   "metadata": {},
   "outputs": [],
   "source": [
    "1. What is the relationship between def statements and lambda expressions ?\n",
    "\n",
    "Ans:def statement is used to create a normal function whereas lambda expressions are used to create Anonymous functionswhich can\n",
    "    be assigned to a variable and can be called using the variable later in function.\n",
    "    Lambda's body is a single expression and not a block of statements like def statement. The lambda expression's body is \n",
    "    similar to what we wouldd put in a def body's return statement. We simply type the result as an expression instead of \n",
    "    explicitly returning it. Because it is limited to an expression, a lambda is less general than a def statement.\n",
    "    Example of Lambda Function is shown below\n",
    "    x = lambda a, b, c : a + b + c\n",
    "    print(x(5, 6, 2)) "
   ]
  },
  {
   "cell_type": "code",
   "execution_count": null,
   "id": "6d1ef491",
   "metadata": {},
   "outputs": [],
   "source": [
    "2. What is the benefit of lambda?\n",
    "\n",
    "It can be used to create Nameless/Anonymous functions inside some complex functions if we are planning to use it only once.\n",
    "Moderate to small functions can be created in a single line\n",
    "Fuctions created using lambda expressions can be assigned to a variable and can be used by simply calling the variable"
   ]
  },
  {
   "cell_type": "code",
   "execution_count": null,
   "id": "7635325b",
   "metadata": {},
   "outputs": [],
   "source": [
    "3. Compare and contrast map, filter, and reduce.\n",
    "\n",
    "map(): The map() function is a type of higher-order. This function takes another function as a parameter along with a sequence \n",
    "       of iterables and returns an output after applying the function to each iterable present in the sequence.\n",
    "filter(): The filter() function is used to create an output list consisting of values for which the function returns true.\n",
    "reduce(): The reduce() function, as the name describes, applies a given function to the iterables and returns a single value\n",
    "\n",
    "from functools import reduce\n",
    "print('Map ->',list(map(lambda x:x+x, [1,2,3,8])))\n",
    "print('Filter ->',list(filter(lambda x:x%2 !=0, [1,2,3,9])))\n",
    "print('Reduce ->',reduce(lambda x,y:x+y, [1,2,3,4,5,7]))"
   ]
  },
  {
   "cell_type": "code",
   "execution_count": null,
   "id": "47cea32b",
   "metadata": {},
   "outputs": [],
   "source": [
    "4. What are function annotations, and how are they used?\n",
    "\n",
    "Function annotations provide a way of associating various parts of a function with arbitrary python expressions at compile time.\n",
    "Annotations of simple parameters def func(x: expression, y: expression = 20):\n",
    "Whereas the annotations for excess parameters are as − def func (**args: expression, **kwargs: expression):\n",
    "\n",
    "Purpose of Function Annotations:\n",
    "Python supports dynamic typing and hence no module is provided for type checking.\n",
    "String based annotations can be used by the libraries to provide better help messages at compile time regarding the \n",
    "functionalities of various methods, classes and modules.\n",
    "\n",
    "Example of Annotations:\n",
    "Annotations for simple parameters : def foo(a: expression, b: expression = 5):\n",
    "Annotations for excess parameters : def foo(*args: expression, *kwargs: expression):\n",
    "Annotations for nested parameters : def foo((a: expression, b: expression), (c: expression, d: expression)):"
   ]
  },
  {
   "cell_type": "code",
   "execution_count": null,
   "id": "36df0859",
   "metadata": {},
   "outputs": [],
   "source": [
    "5. What are recursive functions, and how are they used?\n",
    "\n",
    "Ans:A recursive function is a function that calls itself during its execution. The process may repeat several times, outputting\n",
    "    the result and the end of each iteration. An example is mentioned below\n",
    "\n",
    "def tri_recursion(k):\n",
    "    if k>0:\n",
    "        print(k+tri_recursion(k-1))\n",
    "    return 0\n",
    "print(\"Recursion Example Results\")\n",
    "tri_recursion(9)"
   ]
  },
  {
   "cell_type": "code",
   "execution_count": null,
   "id": "1b6fbbd5",
   "metadata": {},
   "outputs": [],
   "source": [
    "6. What are some general design guidelines for coding functions?\n",
    "\n",
    "Ans: Some of the general design guidelines for coding functions are:\n",
    "\n",
    "> Always use a docstring to explain the functionality of the function\n",
    "> Avoid using or limit use of global variables\n",
    "> Proper Indentation to increase the code readability\n",
    "> Try to follow a proper naming convention for function names (pascalCase or camelCase) and stick with the same convention \n",
    "throughout the application.\n",
    "> Avoid using digits while choosing a variable name\n",
    "> Try to use a name for the function which conveys the purpose of the function\n",
    "> Local variables should be named using camelCase format (ex: localVariable) whereas Global variables names should be using \n",
    "PascalCase (ex:GlobalVariable).\n",
    "> Constant should be represented in allcaps (ex:CONSTANT)."
   ]
  },
  {
   "cell_type": "code",
   "execution_count": null,
   "id": "2dcf73a3",
   "metadata": {},
   "outputs": [],
   "source": [
    "7. Name three or more ways that functions can communicate results to a caller.\n",
    "\n",
    "Ans:Some of the ways in which a function can communicate with the calling function is\n",
    "print\n",
    "return\n",
    "yield"
   ]
  }
 ],
 "metadata": {
  "kernelspec": {
   "display_name": "Python 3 (ipykernel)",
   "language": "python",
   "name": "python3"
  },
  "language_info": {
   "codemirror_mode": {
    "name": "ipython",
    "version": 3
   },
   "file_extension": ".py",
   "mimetype": "text/x-python",
   "name": "python",
   "nbconvert_exporter": "python",
   "pygments_lexer": "ipython3",
   "version": "3.9.7"
  }
 },
 "nbformat": 4,
 "nbformat_minor": 5
}
