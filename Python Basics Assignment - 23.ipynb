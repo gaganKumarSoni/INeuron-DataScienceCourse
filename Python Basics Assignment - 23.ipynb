{
 "cells": [
  {
   "cell_type": "code",
   "execution_count": null,
   "id": "30c3febd",
   "metadata": {},
   "outputs": [],
   "source": [
    "1. What is the result of the code, and why?\n",
    ">>> def func(a, b=6, c=8):\n",
    "print(a, b, c)\n",
    ">>> func(1, 2)\n",
    "\n",
    "O/P:1 2 8\n",
    "Ans:The result of the above code is 1 2 8. It is because the function uses the default value of c i.e 8 which is provided at \n",
    "    the time of declaration."
   ]
  },
  {
   "cell_type": "code",
   "execution_count": null,
   "id": "6d43548b",
   "metadata": {},
   "outputs": [],
   "source": [
    "2. What is the result of this code, and why?\n",
    ">>> def func(a, b, c=5):\n",
    "print(a, b, c)\n",
    ">>> func(1, c=3, b=2)\n",
    "\n",
    "O/P:1 2 3\n",
    "Ans:The result of the above code is 1 2 3. It is because the function will use default values only when a value for a argument \n",
    "    is not provided and if the argument name is mentioned while doing a function call, the order of arguments is also ignored by\n",
    "    the python interpreter"
   ]
  },
  {
   "cell_type": "code",
   "execution_count": null,
   "id": "50838f32",
   "metadata": {},
   "outputs": [],
   "source": [
    "3. How about this code: what is its result, and why?\n",
    ">>> def func(a, *pargs):\n",
    "print(a, pargs)\n",
    ">>> func(1, 2, 3)\n",
    "\n",
    "O/P:1 (2, 3)\n",
    "Ans:The result of the code is 1 (2,3). *pargs stands for variable length arguments. This format is used when we are not sure \n",
    "    about the number of arguments to be passed to a function. All the values under this argument will be stored in a tuple."
   ]
  },
  {
   "cell_type": "code",
   "execution_count": null,
   "id": "6d9fdeb8",
   "metadata": {},
   "outputs": [],
   "source": [
    "4. What does this code print, and why?\n",
    ">>> def func(a, **kargs):\n",
    "print(a, kargs)\n",
    ">>> func(a=1, c=3, b=2)\n",
    "\n",
    "O/P:1 {'c': 3, 'b': 2}\n",
    "Ans:The result of the above code is 1 {'c': 3, 'b': 2}. **args stands for variable length keyword arguments. This format is used\n",
    "    when we want pass key value pairs as input to a function. All these key value pairs will be stored in a dictionary"
   ]
  },
  {
   "cell_type": "code",
   "execution_count": null,
   "id": "76ca69ee",
   "metadata": {},
   "outputs": [],
   "source": [
    "5. What gets printed by this, and explain?\n",
    ">>> def func(a, b, c=8, d=5): print(a, b, c, d)\n",
    ">>> func(1, *(5, 6))\n",
    "\n",
    "O/P:1 5 6 5\n",
    "Ans:The output of the above is 1 5 6 5. The reason for this function not throwing an error is because, this function expects 4 \n",
    "    arguments. The value for a is provided explicitly whereas for arguments b and c, the function will expand *(5,6) and \n",
    "    consider the value of b as 5 and value of c as 6. Since the default value of d is provided in function declaration, d value \n",
    "    will be 5. However it is recommended to use the feature of positional arguments at the end."
   ]
  },
  {
   "cell_type": "code",
   "execution_count": null,
   "id": "4540800f",
   "metadata": {},
   "outputs": [],
   "source": [
    "6. what is the result of this, and explain?\n",
    ">>> def func(a, b, c): a = 2; b[0] = 'x'; c['a'] = 'y'\n",
    ">>> l=1; m=[1]; n={'a':0}\n",
    ">>> func(l, m, n)\n",
    ">>> l, m, n\n",
    "\n",
    "O/P:(1, ['x'], {'a': 'y'})\n",
    "Ans:The output of above code is 1, ['x'], {'a': 'y'}.\n",
    "    Even though Python gives importance to indentation, it provides a facility to declare an entire function in one single line \n",
    "    where statements in a function body are sepereated by;\n",
    "    When l,m,n are provided as inputs to the function, it modifies the values of l,m,n and sets the value of l=2 ,m=['x'] and \n",
    "    n={'a':'y'}"
   ]
  }
 ],
 "metadata": {
  "kernelspec": {
   "display_name": "Python 3 (ipykernel)",
   "language": "python",
   "name": "python3"
  },
  "language_info": {
   "codemirror_mode": {
    "name": "ipython",
    "version": 3
   },
   "file_extension": ".py",
   "mimetype": "text/x-python",
   "name": "python",
   "nbconvert_exporter": "python",
   "pygments_lexer": "ipython3",
   "version": "3.9.7"
  }
 },
 "nbformat": 4,
 "nbformat_minor": 5
}
