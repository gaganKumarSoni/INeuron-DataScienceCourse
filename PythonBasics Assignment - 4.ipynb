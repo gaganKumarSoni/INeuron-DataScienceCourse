{
 "cells": [
  {
   "cell_type": "code",
   "execution_count": null,
   "id": "9e87cf9d",
   "metadata": {},
   "outputs": [],
   "source": [
    "1. What exactly is []?\n",
    "Ans: Empty list"
   ]
  },
  {
   "cell_type": "code",
   "execution_count": null,
   "id": "c0061765",
   "metadata": {},
   "outputs": [],
   "source": [
    "2. In a list of values stored in a variable called spam, how would you assign the value 'hello' as the third value?\n",
    "(Assume [2, 4, 6, 8, 10] are in spam.)\n",
    "Ans: spam = [2, 4, 6, 8, 10]\n",
    "     spam.insert(2,'hello')"
   ]
  },
  {
   "cell_type": "code",
   "execution_count": null,
   "id": "22561eec",
   "metadata": {},
   "outputs": [],
   "source": [
    "Let's pretend the spam includes the list ['a', 'b', 'c', 'd'] for the next three queries.\n",
    "3. What is the value of spam[int(int('3' * 2) / 11)]?\n",
    "Ans: spam[3] = 'd'\n",
    "\n",
    "4. What is the value of spam[-1]?\n",
    "Ans: spam[-1] = 'd'\n",
    "\n",
    "5. What is the value of spam[:2]?\n",
    "Ans: spam[:2] = ['a', 'b']"
   ]
  },
  {
   "cell_type": "code",
   "execution_count": null,
   "id": "566ae9cd",
   "metadata": {},
   "outputs": [],
   "source": [
    "Let's pretend bacon has the list [3.14, 'cat,' 11, 'cat,' True] for the next three questions.\n",
    "\n",
    "List contain error but in case if identation is correct then output will be\n",
    "\n",
    "6. What is the value of bacon.index('cat')?\n",
    "Ans: bacon.index('cat') is 1\n",
    "\n",
    "7. How does bacon.append(99) change the look of the list value in bacon?\n",
    "Ans: bacon = [3.14, 'cat,' 11, 'cat,' True, 99]\n",
    "\n",
    "8. How does bacon.remove('cat') change the look of the list in bacon?\n",
    "Ans: bacon = [3.14, 11, 'cat,' True]"
   ]
  },
  {
   "cell_type": "code",
   "execution_count": null,
   "id": "8b48abaf",
   "metadata": {},
   "outputs": [],
   "source": [
    "9. What are the list concatenation and list replication operators?\n",
    "Ans: list concatenation done with '+' operator and .extend keyword\n",
    "     replication done with assigning = operator and with .copy keyword"
   ]
  },
  {
   "cell_type": "code",
   "execution_count": null,
   "id": "8c1a193e",
   "metadata": {},
   "outputs": [],
   "source": [
    "10. What is difference between the list methods append() and insert()?\n",
    "Ans: append() method insert value at the end\n",
    "     insert() method insert value at specified index"
   ]
  },
  {
   "cell_type": "code",
   "execution_count": null,
   "id": "ce4691fa",
   "metadata": {},
   "outputs": [],
   "source": [
    "11. What are the two methods for removing items from a list?\n",
    "Ans: list.pop(), it removes last element\n",
    "     list.remove(value), it remove specified value"
   ]
  },
  {
   "cell_type": "code",
   "execution_count": null,
   "id": "a602d559",
   "metadata": {},
   "outputs": [],
   "source": [
    "12. Describe how list values and string values are identical.\n",
    "Ans: they both are sequences and iterable objects which can be converted to iterator object using iter() function"
   ]
  },
  {
   "cell_type": "code",
   "execution_count": null,
   "id": "9bd9e9b3",
   "metadata": {},
   "outputs": [],
   "source": [
    "13. Whats the difference between tuples and lists?\n",
    "Ans: Tuples are immutable and memory efficient whereas lists are mutable and less memory efficient"
   ]
  },
  {
   "cell_type": "code",
   "execution_count": null,
   "id": "2fc2a9c9",
   "metadata": {},
   "outputs": [],
   "source": [
    "14. How do you type a tuple value that only contains the integer 42?\n",
    "Ans: tup = tuple([42])"
   ]
  },
  {
   "cell_type": "code",
   "execution_count": null,
   "id": "bd89df1f",
   "metadata": {},
   "outputs": [],
   "source": [
    "15. How do you get a list value's tuple form? How do you get a tuple value's list form?\n",
    "Ans: convert list to tuple form is done with tuple(list) function which take list as argument\n",
    "     convert tuple to list form is done with list(tuple) function which take tuple as argument"
   ]
  },
  {
   "cell_type": "code",
   "execution_count": null,
   "id": "efe4f35b",
   "metadata": {},
   "outputs": [],
   "source": [
    "16. Variables that \"contain\" list values are not necessarily lists themselves. Instead, what do they contain?\n",
    "Ans: they contain reference to list values"
   ]
  },
  {
   "cell_type": "code",
   "execution_count": null,
   "id": "1a8fde97",
   "metadata": {},
   "outputs": [],
   "source": [
    "17. How do you distinguish between copy.copy() and copy.deepcopy()?\n",
    "Ans: copy.copy() give same refernece for each value but have different compound object\n",
    "     copy.deepcopy() creates new object for each value by giving different refernce"
   ]
  }
 ],
 "metadata": {
  "kernelspec": {
   "display_name": "Python 3 (ipykernel)",
   "language": "python",
   "name": "python3"
  },
  "language_info": {
   "codemirror_mode": {
    "name": "ipython",
    "version": 3
   },
   "file_extension": ".py",
   "mimetype": "text/x-python",
   "name": "python",
   "nbconvert_exporter": "python",
   "pygments_lexer": "ipython3",
   "version": "3.9.7"
  }
 },
 "nbformat": 4,
 "nbformat_minor": 5
}
