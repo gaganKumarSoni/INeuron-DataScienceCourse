{
 "cells": [
  {
   "cell_type": "code",
   "execution_count": null,
   "id": "4ed50b61",
   "metadata": {},
   "outputs": [],
   "source": [
    "1. Is the Python Standard Library included with PyInputPlus?\n",
    "Ans: No we need to download it through pip Install PyInputPlus command"
   ]
  },
  {
   "cell_type": "code",
   "execution_count": null,
   "id": "eed926e8",
   "metadata": {},
   "outputs": [],
   "source": [
    "2. Why is PyInputPlus commonly imported with import pyinputplus as pypi?\n",
    "Ans: Its a alias name for calling pyinputplus, as its shorter name"
   ]
  },
  {
   "cell_type": "code",
   "execution_count": null,
   "id": "68d697b5",
   "metadata": {},
   "outputs": [],
   "source": [
    "3. How do you distinguish between inputInt() and inputFloat()?\n",
    "Ans: inputInt() returns integer value whereas inputFloat() returns float integer"
   ]
  },
  {
   "cell_type": "code",
   "execution_count": null,
   "id": "44172b33",
   "metadata": {},
   "outputs": [],
   "source": [
    "4. Using PyInputPlus, how do you ensure that the user enters a whole number between 0 and 99?\n",
    "Ans: by using min and max parameter of inputInt() function we can set range of acceptance input value"
   ]
  },
  {
   "cell_type": "code",
   "execution_count": null,
   "id": "1d258782",
   "metadata": {},
   "outputs": [],
   "source": [
    "5. What is transferred to the keyword arguments allowRegexes and blockRegexes?\n",
    "Ans: It accepts regular expression which is allowed or blocked in user_input.\n",
    "     allowRegexes override blockRegexes"
   ]
  },
  {
   "cell_type": "code",
   "execution_count": null,
   "id": "f048e202",
   "metadata": {},
   "outputs": [],
   "source": [
    "6. If a blank input is entered three times, what does inputStr(limit=3) do?\n",
    "Ans: It throw RetryLimitException exception."
   ]
  },
  {
   "cell_type": "code",
   "execution_count": null,
   "id": "eb586309",
   "metadata": {},
   "outputs": [],
   "source": [
    "7. If blank input is entered three times, what does inputStr(limit=3, default='hello') do?\n",
    "Ans: This function will print hello string when invalid input limit is reached instead of raising exception"
   ]
  }
 ],
 "metadata": {
  "kernelspec": {
   "display_name": "Python 3 (ipykernel)",
   "language": "python",
   "name": "python3"
  },
  "language_info": {
   "codemirror_mode": {
    "name": "ipython",
    "version": 3
   },
   "file_extension": ".py",
   "mimetype": "text/x-python",
   "name": "python",
   "nbconvert_exporter": "python",
   "pygments_lexer": "ipython3",
   "version": "3.9.7"
  }
 },
 "nbformat": 4,
 "nbformat_minor": 5
}
