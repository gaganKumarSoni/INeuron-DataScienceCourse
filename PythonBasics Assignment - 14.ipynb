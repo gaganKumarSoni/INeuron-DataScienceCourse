{
 "cells": [
  {
   "cell_type": "code",
   "execution_count": null,
   "id": "d5a21389",
   "metadata": {},
   "outputs": [],
   "source": [
    "1. What does RGBA stand for?\n",
    "Ans:RGBA is a four-channel format containing data for Red, Green, Blue, and an Alpha value. Where Alpha Represents the Opacity.\n",
    "    Each value is a floating point number between 0.0 and 1.0. For example, the tuple (1, 0, 0, 1) represents an opaque red, \n",
    "    while (0, 1, 0, 0.5) represents a half transparent green."
   ]
  },
  {
   "cell_type": "code",
   "execution_count": null,
   "id": "d5489c0d",
   "metadata": {},
   "outputs": [],
   "source": [
    "2. From the Pillow module, how do you get the RGBA value of any images?\n",
    "Ans: from PIL import Image\n",
    "     img = Image.open('Image.png')\n",
    "     rgbs = img.convert('rgba')\n",
    "     value = rgbs.getdata()"
   ]
  },
  {
   "cell_type": "code",
   "execution_count": null,
   "id": "dee5f90b",
   "metadata": {},
   "outputs": [],
   "source": [
    "3. What is a box tuple, and how does it work?\n",
    "Ans: A box tuple is a tuple value of four integers: the left-edge x-coordinate, the top-edge y-coordinate,the width, and the \n",
    "     height, respectively."
   ]
  },
  {
   "cell_type": "code",
   "execution_count": null,
   "id": "d9188f38",
   "metadata": {},
   "outputs": [],
   "source": [
    "4. Use your image and load in notebook then, How can you find out the width and height of an Image object?\n",
    "Ans: from PIL import Image\n",
    "     img = Image.open('Image.jpg')\n",
    "     print(pic.width,pic.height)"
   ]
  },
  {
   "cell_type": "code",
   "execution_count": null,
   "id": "f180ef10",
   "metadata": {},
   "outputs": [],
   "source": [
    "5. What method would you call to get Image object for a 100×100 image, excluding the lower-left quarter of it?\n",
    "Ans: from PIL import Image\n",
    "     img = Image.open('image.jpg')\n",
    "     new_img = img.crop((0,50,50,50)) #excluding lower left part (x-cord, y-cord, width, height)"
   ]
  },
  {
   "cell_type": "code",
   "execution_count": null,
   "id": "e0eb2467",
   "metadata": {},
   "outputs": [],
   "source": [
    "6. After making changes to an Image object, how could you save it as an image file?\n",
    "Ans: from PIL import Image\n",
    "     img = Image.open('sample.jpg')\n",
    "     new_img = img.crop((0,50,50,50))\n",
    "     new_img.save('new_image.jpg')"
   ]
  },
  {
   "cell_type": "code",
   "execution_count": null,
   "id": "c38c8b77",
   "metadata": {},
   "outputs": [],
   "source": [
    "7. What module contains Pillow’s shape-drawing code?\n",
    "Ans: Pillows ImageDraw module contains Shape drawing methods. The 'ImageDraw' module provides simple 2D graphics support for \n",
    "     Image Object. Generally, we use this module to create new images, annotate or retouch existing images and to generate \n",
    "     graphics on the fly for web use. The graphics commands support the drawing of shapes and annotation of text."
   ]
  },
  {
   "cell_type": "code",
   "execution_count": null,
   "id": "3d54eb6b",
   "metadata": {},
   "outputs": [],
   "source": [
    "8. Image objects do not have drawing methods. What kind of object does? How do you get this kind of object?\n",
    "Ans: ImageDraw objects have shape-drawing methods such as point(), line(), or rectangle().They are returned by passing the \n",
    "     Image object to the ImageDraw.Draw() function."
   ]
  }
 ],
 "metadata": {
  "kernelspec": {
   "display_name": "Python 3 (ipykernel)",
   "language": "python",
   "name": "python3"
  },
  "language_info": {
   "codemirror_mode": {
    "name": "ipython",
    "version": 3
   },
   "file_extension": ".py",
   "mimetype": "text/x-python",
   "name": "python",
   "nbconvert_exporter": "python",
   "pygments_lexer": "ipython3",
   "version": "3.9.7"
  }
 },
 "nbformat": 4,
 "nbformat_minor": 5
}
