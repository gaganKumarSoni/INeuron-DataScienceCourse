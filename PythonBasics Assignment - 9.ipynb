{
 "cells": [
  {
   "cell_type": "code",
   "execution_count": null,
   "id": "8d82f038",
   "metadata": {},
   "outputs": [],
   "source": [
    "1. To what does a relative path refer?\n",
    "Ans: It refer to location that is relative to current directory"
   ]
  },
  {
   "cell_type": "code",
   "execution_count": null,
   "id": "50242b72",
   "metadata": {},
   "outputs": [],
   "source": [
    "2. What does an absolute path start with your operating system?\n",
    "Ans: It refer to direct path starting from root element to locate a file"
   ]
  },
  {
   "cell_type": "code",
   "execution_count": null,
   "id": "cc5c6d98",
   "metadata": {},
   "outputs": [],
   "source": [
    "3. What do the functions os.getcwd() and os.chdir() do?\n",
    "Ans: os.getcwd(), it gets current working directory whereas \n",
    "     os.chdir(), it change directory based on path given as a parameter"
   ]
  },
  {
   "cell_type": "code",
   "execution_count": null,
   "id": "3cadbfae",
   "metadata": {},
   "outputs": [],
   "source": [
    "4. What are the . and .. folders?\n",
    "Ans: (.) means current directory and (..) means parent directory of current directory"
   ]
  },
  {
   "cell_type": "code",
   "execution_count": null,
   "id": "327539a5",
   "metadata": {},
   "outputs": [],
   "source": [
    "5. In C:\\bacon\\eggs\\spam.txt, which part is the dir name, and which part is the base name?\n",
    "Ans: \"C:\\bacon\\eggs\" is directory name and \"spam.txt\" is base name"
   ]
  },
  {
   "cell_type": "code",
   "execution_count": null,
   "id": "e2b15256",
   "metadata": {},
   "outputs": [],
   "source": [
    "6. What are the three “mode” arguments that can be passed to the open() function?\n",
    "Ans: r: read only mode; rb: read only in binary format mode; r+: opens file for reading and writing"
   ]
  },
  {
   "cell_type": "code",
   "execution_count": null,
   "id": "338596e1",
   "metadata": {},
   "outputs": [],
   "source": [
    "7. What happens if an existing file is opened in write mode?\n",
    "Ans: It discarded previous content of file and treat it as new empty file"
   ]
  },
  {
   "cell_type": "code",
   "execution_count": null,
   "id": "fb647d8b",
   "metadata": {},
   "outputs": [],
   "source": [
    "8. How do you tell the difference between read() and readlines()?\n",
    "Ans: read() retieves entire content of file in form of strings and its also contain parameter which designate to \n",
    "     read number of character at a time\n",
    "     readLines() retireves content of file in form of list where every line is element of list"
   ]
  },
  {
   "cell_type": "code",
   "execution_count": null,
   "id": "75b44d72",
   "metadata": {},
   "outputs": [],
   "source": [
    "9. What data structure does a shelf value resemble?\n",
    "Ans: It resembles dictionary data structure whihc store information in form of key and value pair."
   ]
  }
 ],
 "metadata": {
  "kernelspec": {
   "display_name": "Python 3 (ipykernel)",
   "language": "python",
   "name": "python3"
  },
  "language_info": {
   "codemirror_mode": {
    "name": "ipython",
    "version": 3
   },
   "file_extension": ".py",
   "mimetype": "text/x-python",
   "name": "python",
   "nbconvert_exporter": "python",
   "pygments_lexer": "ipython3",
   "version": "3.9.7"
  }
 },
 "nbformat": 4,
 "nbformat_minor": 5
}
