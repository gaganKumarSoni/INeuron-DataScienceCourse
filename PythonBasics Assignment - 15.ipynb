{
 "cells": [
  {
   "cell_type": "code",
   "execution_count": null,
   "id": "50961337",
   "metadata": {},
   "outputs": [],
   "source": [
    "1.How many seconds are in an hour? Use the interactive interpreter as a calculator and multiply the number of seconds in a \n",
    "minute (60) by the number of minutes in an hour (also 60).\n",
    "Ans: print(60*60)"
   ]
  },
  {
   "cell_type": "code",
   "execution_count": null,
   "id": "5a4c5b96",
   "metadata": {},
   "outputs": [],
   "source": [
    "2. Assign the result from the previous task (seconds in an hour) to a variable called seconds_per_hour.\n",
    "Ans: seconds_per_hour = 60*60"
   ]
  },
  {
   "cell_type": "code",
   "execution_count": null,
   "id": "269f8137",
   "metadata": {},
   "outputs": [],
   "source": [
    "3. How many seconds do you think there are in a day? Make use of the variables seconds per hour and minutes per hour.\n",
    "Ans: minutes_per_hour, seconds_per_hour = 60, 60\n",
    "     print(24*minutes_per_hour*seconds_per_hour)"
   ]
  },
  {
   "cell_type": "code",
   "execution_count": null,
   "id": "d53483e2",
   "metadata": {},
   "outputs": [],
   "source": [
    "4. Calculate seconds per day again, but this time save the result in a variable called seconds_per_day\n",
    "Ans: minutes_per_hour, seconds_per_hour = 60, 60\n",
    "     seconds_per_day = 24 * minutes_per_hour * seconds_per_hour"
   ]
  },
  {
   "cell_type": "code",
   "execution_count": null,
   "id": "02d48d8e",
   "metadata": {},
   "outputs": [],
   "source": [
    "5. Divide seconds_per_day by seconds_per_hour. Use floating-point (/) division.\n",
    "Ans: print(seconds_per_day / seconds_per_hour) # o/p: 24"
   ]
  },
  {
   "cell_type": "code",
   "execution_count": null,
   "id": "f953312e",
   "metadata": {},
   "outputs": [],
   "source": [
    "6. Divide seconds_per_day by seconds_per_hour, using integer (//) division. Did this number agree with the floating-point value\n",
    "   from the previous question, aside from the final .0?\n",
    "Ans: No_of_hours_per_day = seconds_per_day // seconds_per_hour  # o/p: 24\n",
    "     Yes, this value agrees with previous floating value."
   ]
  },
  {
   "cell_type": "code",
   "execution_count": null,
   "id": "4f42d045",
   "metadata": {},
   "outputs": [],
   "source": [
    "7. Write a generator, genPrimes, that returns the sequence of prime numbers on successive calls to its next() method: \n",
    "    2, 3, 5, 7, 11, ...\n",
    "Ans: def genPrimes():\n",
    "        n=0\n",
    "        while 1:\n",
    "            if n==2 or n==3 or (((n-1)%6==0 or (n+1)%6==0) and n!=1):\n",
    "                yield n\n",
    "            n+=1\n",
    "    prm_no = genPrimes()\n",
    "    for _ in range(10):\n",
    "        print(next(prm_no))"
   ]
  }
 ],
 "metadata": {
  "kernelspec": {
   "display_name": "Python 3 (ipykernel)",
   "language": "python",
   "name": "python3"
  },
  "language_info": {
   "codemirror_mode": {
    "name": "ipython",
    "version": 3
   },
   "file_extension": ".py",
   "mimetype": "text/x-python",
   "name": "python",
   "nbconvert_exporter": "python",
   "pygments_lexer": "ipython3",
   "version": "3.9.7"
  }
 },
 "nbformat": 4,
 "nbformat_minor": 5
}
