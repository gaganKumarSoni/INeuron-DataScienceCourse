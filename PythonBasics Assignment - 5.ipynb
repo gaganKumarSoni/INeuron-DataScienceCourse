{
 "cells": [
  {
   "cell_type": "code",
   "execution_count": null,
   "id": "9f249048",
   "metadata": {},
   "outputs": [],
   "source": [
    "1. What does an empty dictionary's code look like?\n",
    "Ans: dict()"
   ]
  },
  {
   "cell_type": "code",
   "execution_count": null,
   "id": "e873b285",
   "metadata": {},
   "outputs": [],
   "source": [
    "2. What is the value of a dictionary value with the key 'foo' and the value 42?\n",
    "Ans:\n",
    "d = {'foo':42}\n",
    "for i in d.values():\n",
    "    print(i)"
   ]
  },
  {
   "cell_type": "code",
   "execution_count": null,
   "id": "71bdef52",
   "metadata": {},
   "outputs": [],
   "source": [
    "3. What is the most significant distinction between a dictionary and a list?\n",
    "Ans:dictionary is a hash map where every key is inserted into hashmap which can be access directly \n",
    "    dictionary contains key value pair whereas list contain only values\n",
    "    dictionary took O(1) time for searching a value whereas list takes O(N)"
   ]
  },
  {
   "cell_type": "code",
   "execution_count": null,
   "id": "56d12c49",
   "metadata": {},
   "outputs": [],
   "source": [
    "4. What happens if you try to access spam['foo'] if spam is {'bar': 100}?\n",
    "Ans: It give Key Error (key not found)"
   ]
  },
  {
   "cell_type": "code",
   "execution_count": null,
   "id": "116aec61",
   "metadata": {},
   "outputs": [],
   "source": [
    "5. If a dictionary is stored in spam, what is the difference between the expressions 'cat' in spam and 'cat' in spam.keys()?\n",
    "Ans: No difference both are same, in both case it will check whether 'cat' is in dictionay keys or not"
   ]
  },
  {
   "cell_type": "code",
   "execution_count": null,
   "id": "009eb541",
   "metadata": {},
   "outputs": [],
   "source": [
    "6. If a dictionary is stored in spam, what is the difference between the expressions 'cat' in spam and 'cat' in spam.values()?\n",
    "Ans: Expressions 'cat' in spam check for keys in spam dictionary whereas 'cat' in spam.values() checks for the values\n",
    "     inside every key of dictionary"
   ]
  },
  {
   "cell_type": "code",
   "execution_count": null,
   "id": "ed874b9f",
   "metadata": {},
   "outputs": [],
   "source": [
    "7. What is a shortcut for the following code?\n",
    "if 'color' not in spam:\n",
    "spam['color'] = 'black'\n",
    "\n",
    "Ans: spam.setdefault('color','black')"
   ]
  },
  {
   "cell_type": "code",
   "execution_count": null,
   "id": "b6890251",
   "metadata": {},
   "outputs": [],
   "source": [
    "8. How do you \"pretty print\" dictionary values using which module and function?\n",
    "Ans: Using pprint function of pprint module\n",
    "     >>> import pprint\n",
    "     >>> pprint.pprint()"
   ]
  }
 ],
 "metadata": {
  "kernelspec": {
   "display_name": "Python 3 (ipykernel)",
   "language": "python",
   "name": "python3"
  },
  "language_info": {
   "codemirror_mode": {
    "name": "ipython",
    "version": 3
   },
   "file_extension": ".py",
   "mimetype": "text/x-python",
   "name": "python",
   "nbconvert_exporter": "python",
   "pygments_lexer": "ipython3",
   "version": "3.9.7"
  }
 },
 "nbformat": 4,
 "nbformat_minor": 5
}
