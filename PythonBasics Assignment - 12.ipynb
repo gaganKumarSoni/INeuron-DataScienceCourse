{
 "cells": [
  {
   "cell_type": "code",
   "execution_count": null,
   "id": "01b0af77",
   "metadata": {},
   "outputs": [],
   "source": [
    "1. In what modes should the PdfFileReader() and PdfFileWriter() File objects will be opened?\n",
    "Ans: PdfFileReader() object open in read binary mode (rb)\n",
    "     PdfFileWriter() object open in write binary mode (wb)"
   ]
  },
  {
   "cell_type": "code",
   "execution_count": null,
   "id": "8a98444f",
   "metadata": {},
   "outputs": [],
   "source": [
    "2. From a PdfFileReader object, how do you get a Page object for page 5?\n",
    "Ans: pdf = PdfFileReader(str(\"path to pdf file\"))\n",
    "     pdf.getPage(4) # page 5"
   ]
  },
  {
   "cell_type": "code",
   "execution_count": null,
   "id": "3cee3844",
   "metadata": {},
   "outputs": [],
   "source": [
    "3. What PdfFileReader variable stores the number of pages in the PDF document?\n",
    "Ans: NumOfPages = PdfFileReader(str(\"path to file\")).getNumPages()"
   ]
  },
  {
   "cell_type": "code",
   "execution_count": null,
   "id": "ac9e9a3f",
   "metadata": {},
   "outputs": [],
   "source": [
    "4. If a PdfFileReader object’s PDF is encrypted with the password swordfish, what must you do before you can obtain Page objects\n",
    "from it?\n",
    "Ans: #Need to decrypt pdf firstly\n",
    "     pdf = PdfFileReader(str(\"path to file\"))\n",
    "     pdf.decrypt(password=\"swordfish\")\n",
    "     pdf.getPage(i)  # i for any page"
   ]
  },
  {
   "cell_type": "code",
   "execution_count": null,
   "id": "3050919f",
   "metadata": {},
   "outputs": [],
   "source": [
    "5. What methods do you use to rotate a page?\n",
    "Ans: # rotateClockwise(angle)\n",
    "     pdf = PdfFileReader(str(\"path to file\")).getPage(0)\n",
    "     pdf.rotateClockwise(90)"
   ]
  },
  {
   "cell_type": "code",
   "execution_count": null,
   "id": "8ab8a5c9",
   "metadata": {},
   "outputs": [],
   "source": [
    "6. What is the difference between a Run object and a Paragraph object?\n",
    "Ans: Paragraph are middle level object which contain list of Run Objects and\n",
    "     Run Objects are contigous text with same style and it will change for every different style encounter in paragraph"
   ]
  },
  {
   "cell_type": "code",
   "execution_count": null,
   "id": "3b2c9bab",
   "metadata": {},
   "outputs": [],
   "source": [
    "7. How do you obtain a list of Paragraph objects for a Document object that’s stored in a variable named doc?\n",
    "Ans: import docx\n",
    "     doc = docx.Document('demo.docx')\n",
    "     doc.paragraphs   #list of paragraphs object"
   ]
  },
  {
   "cell_type": "code",
   "execution_count": null,
   "id": "ec10cba5",
   "metadata": {},
   "outputs": [],
   "source": [
    "8. What type of object has bold, underline, italic, strike, and outline variables?\n",
    "Ans: Run objects"
   ]
  },
  {
   "cell_type": "code",
   "execution_count": null,
   "id": "c3b75818",
   "metadata": {},
   "outputs": [],
   "source": [
    "9. What is the difference between False, True, and None for the bold variable?\n",
    "Ans: False and True are boolean values assign to bool variable\n",
    "     whereas None are generic placeholder value assign to variable that can take some value in future"
   ]
  },
  {
   "cell_type": "code",
   "execution_count": null,
   "id": "49720556",
   "metadata": {},
   "outputs": [],
   "source": [
    "10. How do you create a Document object for a new Word document?\n",
    "Ans: import docx\n",
    "     doc = docx.Document('demo.docx') # doc object contain Document"
   ]
  },
  {
   "cell_type": "code",
   "execution_count": null,
   "id": "4ead440b",
   "metadata": {},
   "outputs": [],
   "source": [
    "11. How do you add a paragraph with the text 'Hello, there!' to a Document object stored in a variable named doc?\n",
    "Ans: import docx\n",
    "     doc = docx.Document()\n",
    "     doc.add_paragraph('Hello, there!')\n",
    "     doc.save('demo.docx')"
   ]
  },
  {
   "cell_type": "code",
   "execution_count": null,
   "id": "55a63987",
   "metadata": {},
   "outputs": [],
   "source": [
    "12. What integers represent the levels of headings available in Word documents?\n",
    "Ans: top level headings represent in 1,2,3"
   ]
  }
 ],
 "metadata": {
  "kernelspec": {
   "display_name": "Python 3 (ipykernel)",
   "language": "python",
   "name": "python3"
  },
  "language_info": {
   "codemirror_mode": {
    "name": "ipython",
    "version": 3
   },
   "file_extension": ".py",
   "mimetype": "text/x-python",
   "name": "python",
   "nbconvert_exporter": "python",
   "pygments_lexer": "ipython3",
   "version": "3.9.7"
  }
 },
 "nbformat": 4,
 "nbformat_minor": 5
}
