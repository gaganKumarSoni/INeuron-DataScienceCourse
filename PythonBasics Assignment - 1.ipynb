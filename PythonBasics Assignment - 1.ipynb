{
 "cells": [
  {
   "cell_type": "code",
   "execution_count": null,
   "id": "3abe85d6",
   "metadata": {},
   "outputs": [],
   "source": [
    "1. In the below elements which of them are values or an expression? eg:- values can be integer or string and expressions will be mathematical operators.\n",
    "*           -  Expression\n",
    "'hello'     -  Value\n",
    "-87.8       -  Value\n",
    "-           -  Expression\n",
    "/           -  Expression\n",
    "+           -  Expression\n",
    "6           -  Value"
   ]
  },
  {
   "cell_type": "code",
   "execution_count": null,
   "id": "0fb77b96",
   "metadata": {},
   "outputs": [],
   "source": [
    "2. What is the difference between string and variable?\n",
    "Ans: String is a value which consist of characters whereas variable are use to store values like string, integer, float etc."
   ]
  },
  {
   "cell_type": "code",
   "execution_count": null,
   "id": "7e880024",
   "metadata": {},
   "outputs": [],
   "source": [
    "3. Describe three different data types.\n",
    "Ans: Integer, String, Float"
   ]
  },
  {
   "cell_type": "code",
   "execution_count": null,
   "id": "36833ec0",
   "metadata": {},
   "outputs": [],
   "source": [
    "4. What is an expression made up of? What do all expressions do?\n",
    "Ans: Expression is made up of operators, variables and parenthesis. Expressions are used to evaluate a logic to give a single value"
   ]
  },
  {
   "cell_type": "code",
   "execution_count": null,
   "id": "cd1cc943",
   "metadata": {},
   "outputs": [],
   "source": [
    "5. This assignment statements, like spam = 10. What is the difference between an expression and a statement?\n",
    "Ans: Expression is used to evaluate combination of values functions to give a new value whereas statement are standalone unit of execution."
   ]
  },
  {
   "cell_type": "code",
   "execution_count": null,
   "id": "9babe8e6",
   "metadata": {},
   "outputs": [],
   "source": [
    "6. After running the following code, what does the variable bacon contain?\n",
    "bacon = 22\n",
    "bacon + 1\n",
    "Ans: bacon contain 22 as value"
   ]
  },
  {
   "cell_type": "code",
   "execution_count": null,
   "id": "5c05820d",
   "metadata": {},
   "outputs": [],
   "source": [
    "7. What should the values of the following two terms be?\n",
    "'spam' + 'spamspam'\n",
    "'spam' * 3\n",
    "Ans: 1) spamspamspam\n",
    "     2) spamspamspam"
   ]
  },
  {
   "cell_type": "code",
   "execution_count": null,
   "id": "ad72a4b5",
   "metadata": {},
   "outputs": [],
   "source": [
    "8. Why is eggs a valid variable name while 100 is invalid?\n",
    "Ans: a variable name should start with letter or underscore character and its prohibited to start it with a digit."
   ]
  },
  {
   "cell_type": "code",
   "execution_count": null,
   "id": "707292c2",
   "metadata": {},
   "outputs": [],
   "source": [
    "9. What three functions can be used to get the integer, floating-point number, or string version of a value?\n",
    "Ans: For Integer its int(value), For floating-point number its float(value) and for string its str(value)"
   ]
  },
  {
   "cell_type": "code",
   "execution_count": null,
   "id": "4523e500",
   "metadata": {},
   "outputs": [],
   "source": [
    "10. Why does this expression cause an error? How can you fix it?\n",
    "'I have eaten ' + 99 + ' burritos.'\n",
    "\n",
    "Ans: String can’t be concatenate with integer value as they are two different datatypes and so if we need to fix it we need convert integer to string before concatenating it\n",
    "So above statement can be written as:\n",
    "'I have eaten' + str(99) + 'burritos.'"
   ]
  }
 ],
 "metadata": {
  "kernelspec": {
   "display_name": "Python 3 (ipykernel)",
   "language": "python",
   "name": "python3"
  },
  "language_info": {
   "codemirror_mode": {
    "name": "ipython",
    "version": 3
   },
   "file_extension": ".py",
   "mimetype": "text/x-python",
   "name": "python",
   "nbconvert_exporter": "python",
   "pygments_lexer": "ipython3",
   "version": "3.9.7"
  }
 },
 "nbformat": 4,
 "nbformat_minor": 5
}
