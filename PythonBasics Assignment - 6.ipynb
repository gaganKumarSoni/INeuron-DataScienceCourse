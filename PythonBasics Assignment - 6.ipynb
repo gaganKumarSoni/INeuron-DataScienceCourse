{
 "cells": [
  {
   "cell_type": "code",
   "execution_count": null,
   "id": "99c8a0f9",
   "metadata": {},
   "outputs": [],
   "source": [
    "1. What are escape characters, and how do you use them?\n",
    "Ans: Escape characters that are illegal character in string and we can use them followed by inserting backslash prior to illegal\n",
    "     character"
   ]
  },
  {
   "cell_type": "code",
   "execution_count": null,
   "id": "455c303d",
   "metadata": {},
   "outputs": [],
   "source": [
    "2. What do the escape characters n and t stand for?\n",
    "Ans: \\n stand for newline and \\t stands for tab"
   ]
  },
  {
   "cell_type": "code",
   "execution_count": null,
   "id": "96bb8ad2",
   "metadata": {},
   "outputs": [],
   "source": [
    "3. What is the way to include backslash characters in a string?\n",
    "Ans: By using backslash (\\) inside string\n",
    "     For ex: string1 = \"\\\"INeuron\\\"\" # \"INeuron\""
   ]
  },
  {
   "cell_type": "code",
   "execution_count": null,
   "id": "f30e6e9d",
   "metadata": {},
   "outputs": [],
   "source": [
    "4. The string \"Howl's Moving Castle\" is a correct value. Why isn't the single quote character in the word Howl's \n",
    "not escaped a problem?\n",
    "Ans: As string contain double quotes and so inside it we can use single quote and vice-versa"
   ]
  },
  {
   "cell_type": "code",
   "execution_count": null,
   "id": "8847cb38",
   "metadata": {},
   "outputs": [],
   "source": [
    "5. How do you write a string of newlines if you don't want to use the n character?\n",
    "Ans: By using \"\\n\" we can go to next newline"
   ]
  },
  {
   "cell_type": "code",
   "execution_count": null,
   "id": "06a36bda",
   "metadata": {},
   "outputs": [],
   "source": [
    "6. What are the values of the given expressions?\n",
    "'Hello, world!'[1]    = 'e'\n",
    "'Hello, world!'[0:5]  = 'Hello'\n",
    "'Hello, world!'[:5]   = 'Hello'\n",
    "'Hello, world!'[3:]   = 'lo, world!'"
   ]
  },
  {
   "cell_type": "code",
   "execution_count": null,
   "id": "fe654250",
   "metadata": {},
   "outputs": [],
   "source": [
    "7. What are the values of the following expressions?\n",
    "'Hello'.upper()           = 'HELLO'\n",
    "'Hello'.upper().isupper() = True\n",
    "'Hello'.upper().lower()   = 'hello'"
   ]
  },
  {
   "cell_type": "code",
   "execution_count": null,
   "id": "c0a358ac",
   "metadata": {},
   "outputs": [],
   "source": [
    "8. What are the values of the following expressions?\n",
    "'Remember, remember, the fifth of July.'.split()  = ['Remember,', 'remember,', 'the', 'fifth', 'of', 'July.']\n",
    "'-'.join('There can only one.'.split())           = 'There-can-only-one.'"
   ]
  },
  {
   "cell_type": "code",
   "execution_count": null,
   "id": "df260b09",
   "metadata": {},
   "outputs": [],
   "source": [
    "9. What are the methods for right-justifying, left-justifying, and centering a string?\n",
    "Ans: string.rjust(width, value to fill remaining space) :Align string to right and fill remaining space based on 2nd argument\n",
    "     string.ljust(width, value to fill remaining space) :Align string to left and fill remaining space based on 2nd argument\n",
    "     string.center(width, value to fill remaining space):Align string to center and fill remaining space based on 2nd argument"
   ]
  },
  {
   "cell_type": "code",
   "execution_count": null,
   "id": "299acc22",
   "metadata": {},
   "outputs": [],
   "source": [
    "10. What is the best way to remove whitespace characters from the start or end?\n",
    "Ans: Using replace function\n",
    "     Ex: string.replace(' ', '')"
   ]
  }
 ],
 "metadata": {
  "kernelspec": {
   "display_name": "Python 3 (ipykernel)",
   "language": "python",
   "name": "python3"
  },
  "language_info": {
   "codemirror_mode": {
    "name": "ipython",
    "version": 3
   },
   "file_extension": ".py",
   "mimetype": "text/x-python",
   "name": "python",
   "nbconvert_exporter": "python",
   "pygments_lexer": "ipython3",
   "version": "3.9.7"
  }
 },
 "nbformat": 4,
 "nbformat_minor": 5
}
