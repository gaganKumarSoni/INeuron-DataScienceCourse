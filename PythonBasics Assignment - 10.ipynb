{
 "cells": [
  {
   "cell_type": "code",
   "execution_count": null,
   "id": "1131b688",
   "metadata": {},
   "outputs": [],
   "source": [
    "1. How do you distinguish between shutil.copy() and shutil.copytree()?\n",
    "Ans: shutil.copy(), it copy single file and shutil.copytree() will copy entire folder with all the files in it"
   ]
  },
  {
   "cell_type": "code",
   "execution_count": null,
   "id": "d3d4907a",
   "metadata": {},
   "outputs": [],
   "source": [
    "2. What function is used to rename files?\n",
    "Ans: os.rename(oldFileName, NewFileName)"
   ]
  },
  {
   "cell_type": "code",
   "execution_count": null,
   "id": "895858aa",
   "metadata": {},
   "outputs": [],
   "source": [
    "3. What is the difference between the delete functions in the send2trash and shutil modules?\n",
    "Ans: send2trush will move file or folder to RecycleBin whereas shutil modules will permanentaly delete file or folder"
   ]
  },
  {
   "cell_type": "code",
   "execution_count": null,
   "id": "3b6826f6",
   "metadata": {},
   "outputs": [],
   "source": [
    "4.ZipFile objects have a close() method just like File objects’ close() method. What ZipFile method is equivalent to File \n",
    "objects’ open() method?\n",
    "Ans: zipfile().ZipFile() is equivalent to open() function of file objects"
   ]
  },
  {
   "cell_type": "code",
   "execution_count": null,
   "id": "61c2094d",
   "metadata": {},
   "outputs": [],
   "source": [
    "5. Create a programme that searches a folder tree for files with a certain file extension (such as .pdf or .jpg). Copy these \n",
    "files from whatever location they are in to a new folder.\n",
    "Ans:    \n",
    "    >>  import os,shutil\n",
    "    >>  def src_to_dest_copy(srcFolder, destFolder, extensions):\n",
    "            folder = os.path.abspath(srcFolder)\n",
    "            destFolder = os.path.abspath(destFolder)\n",
    "            for foldName, subFold, fileNames in os.walk(srcFolder):\n",
    "                for filenm in fileNames:\n",
    "                    nm, extnsn = os.path.splitext(filenm)\n",
    "                    if extnsn in extensions:\n",
    "                        fileAbsPath = foldName + os.path.sep + filenm\n",
    "                        shutil.copy(fileAbsPath, destFolder)"
   ]
  }
 ],
 "metadata": {
  "kernelspec": {
   "display_name": "Python 3 (ipykernel)",
   "language": "python",
   "name": "python3"
  },
  "language_info": {
   "codemirror_mode": {
    "name": "ipython",
    "version": 3
   },
   "file_extension": ".py",
   "mimetype": "text/x-python",
   "name": "python",
   "nbconvert_exporter": "python",
   "pygments_lexer": "ipython3",
   "version": "3.9.7"
  }
 },
 "nbformat": 4,
 "nbformat_minor": 5
}
