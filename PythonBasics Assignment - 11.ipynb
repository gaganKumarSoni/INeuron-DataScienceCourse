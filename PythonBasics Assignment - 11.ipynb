{
 "cells": [
  {
   "cell_type": "code",
   "execution_count": null,
   "id": "b2cfb245",
   "metadata": {},
   "outputs": [],
   "source": [
    "1. Create an assert statement that throws an AssertionError if the variable spam is a negative integer.\n",
    "Ans: \n",
    "    spam = -1\n",
    "    try:\n",
    "        assert spam>-1, 'Spam should contain positive integer'\n",
    "    except AssertionError as msg:\n",
    "        print(msg)"
   ]
  },
  {
   "cell_type": "code",
   "execution_count": null,
   "id": "ffc3bec2",
   "metadata": {},
   "outputs": [],
   "source": [
    "2. Write an assert statement that triggers an AssertionError if the variables eggs and bacon contain strings that are the same \n",
    "as each other, even if their cases are different (that is, 'hello' and 'hello' are considered the same, and 'goodbye' and\n",
    "'GOODbye' are also considered the same).\n",
    "Ans: \n",
    "    eggs, bacon = \"goodbye\", \"GOODbye\"\n",
    "    try:\n",
    "        assert eggs.lower()==bacon.lower(), \"string should be same insensitive to case\"\n",
    "    except AssertionError as msg:\n",
    "        print(msg)"
   ]
  },
  {
   "cell_type": "code",
   "execution_count": null,
   "id": "4b70e12e",
   "metadata": {},
   "outputs": [],
   "source": [
    "3. Create an assert statement that throws an AssertionError every time.\n",
    "Ans: \n",
    "    while 1:\n",
    "        try:\n",
    "            assert 1>2, 'Throw AssertionError everytime'\n",
    "        except AssertionError as msg:\n",
    "            print(msg)"
   ]
  },
  {
   "cell_type": "code",
   "execution_count": null,
   "id": "35645b62",
   "metadata": {},
   "outputs": [],
   "source": [
    "4. What are the two lines that must be present in your software in order to call logging.debug()?\n",
    "Ans: import logging\n",
    "     logging.debug('This is a debug message')"
   ]
  },
  {
   "cell_type": "code",
   "execution_count": null,
   "id": "1ab028e6",
   "metadata": {},
   "outputs": [],
   "source": [
    "5. What are the two lines that your program must have in order to have logging.debug() send a logging message to a file named \n",
    "programLog.txt?\n",
    "Ans: import logging\n",
    "     logging.basicConfig(filename='programLog.txt', fielmode='w', format=\"%(name)s - %(levelname)s - %(message)s\")\n",
    "     logging.error('This will get logged to a file')"
   ]
  },
  {
   "cell_type": "code",
   "execution_count": null,
   "id": "380ceb1f",
   "metadata": {},
   "outputs": [],
   "source": [
    "6. What are the five levels of logging?\n",
    "Ans: DEBUG, INFO, WARNING, ERROR and CRITICAL"
   ]
  },
  {
   "cell_type": "code",
   "execution_count": null,
   "id": "8bab1cca",
   "metadata": {},
   "outputs": [],
   "source": [
    "7. What line of code would you add to your software to disable all logging messages?\n",
    "Ans: import loggin.config as lc\n",
    "     lc.dictConfig({'version':1, 'disable_existing_loggers':True})"
   ]
  },
  {
   "cell_type": "code",
   "execution_count": null,
   "id": "291598b7",
   "metadata": {},
   "outputs": [],
   "source": [
    "8.Why is using logging messages better than using print() to display the same message?\n",
    "Ans: Logging helps to categorize our messages based on different modules of our project and also allows to turn them On or Off"
   ]
  },
  {
   "cell_type": "code",
   "execution_count": null,
   "id": "e24e806e",
   "metadata": {},
   "outputs": [],
   "source": [
    "9. What are the differences between the Step Over, Step In, and Step Out buttons in the debugger?\n",
    "Ans: Step Over: It execute statement line by line but if contain function then it will return result directly instead of \n",
    "                debugging function line by line\n",
    "     Step In  : It behaves same as step over but if debugging a function then it will debug that function line by line\n",
    "     Step Out : If current execution is inside some function then it returns to line from where function gets called."
   ]
  },
  {
   "cell_type": "code",
   "execution_count": null,
   "id": "912209b7",
   "metadata": {},
   "outputs": [],
   "source": [
    "10.After you click Continue, when will the debugger stop ?\n",
    "Ans: Until program completes or waiting for user Input."
   ]
  },
  {
   "cell_type": "code",
   "execution_count": null,
   "id": "711732b6",
   "metadata": {},
   "outputs": [],
   "source": [
    "11. What is the concept of a breakpoint?\n",
    "Ans: It pause execution of program for debugging purpose"
   ]
  }
 ],
 "metadata": {
  "kernelspec": {
   "display_name": "Python 3 (ipykernel)",
   "language": "python",
   "name": "python3"
  },
  "language_info": {
   "codemirror_mode": {
    "name": "ipython",
    "version": 3
   },
   "file_extension": ".py",
   "mimetype": "text/x-python",
   "name": "python",
   "nbconvert_exporter": "python",
   "pygments_lexer": "ipython3",
   "version": "3.9.7"
  }
 },
 "nbformat": 4,
 "nbformat_minor": 5
}
