{
 "cells": [
  {
   "cell_type": "code",
   "execution_count": null,
   "id": "f16c3889",
   "metadata": {},
   "outputs": [],
   "source": [
    "1.What are the two values of the Boolean data type? How do you write them?\n",
    "Ans: True and False. We will write them without any quote. True means 1 and False means 0"
   ]
  },
  {
   "cell_type": "code",
   "execution_count": null,
   "id": "1d01e8ba",
   "metadata": {},
   "outputs": [],
   "source": [
    "2.   What are the three different types of Boolean operators?\n",
    "Ans: ==, !=, >=, <= (Equal-Equal to, Not Equal to, less than equal to, greater than equal to)"
   ]
  },
  {
   "cell_type": "code",
   "execution_count": null,
   "id": "cf59d442",
   "metadata": {},
   "outputs": [],
   "source": [
    "3. Make a list of each Boolean operator's truth tables (i.e. every possible combination of Boolean values for the operator and what it evaluate ).\n",
    "Ans:                  NOT                           AND                       OR                         XOR\n",
    "                      1    |   0               0     0   |  0             0   0  | 0                 0    0  |  0\n",
    "                      0    |   1               0     1   |  0             0    1 | 1                 0    1  |  1\n",
    "                                               1     0   |  0             1    0 | 1                 1    0  |  1\n",
    "                                               1     1   |  1             1    1 | 1                 1    1  |  0"
   ]
  },
  {
   "cell_type": "code",
   "execution_count": null,
   "id": "54b7bed2",
   "metadata": {},
   "outputs": [],
   "source": [
    "4. What are the values of the following expressions?\n",
    "    (5 > 4) and (3 == 5)                         - False\n",
    "    not (5 > 4)                                  - False\n",
    "    (5 > 4) or (3 == 5)                          - True\n",
    "    not ((5 > 4) or (3 == 5))                    - False\n",
    "    (True and True) and (True == False)          - False\n",
    "    (not False) or (not True)                    - True "
   ]
  },
  {
   "cell_type": "code",
   "execution_count": null,
   "id": "1b149744",
   "metadata": {},
   "outputs": [],
   "source": [
    "5.   What are the six comparison operators?\n",
    "Ans: <, >, <=, >=, ==, !="
   ]
  },
  {
   "cell_type": "code",
   "execution_count": null,
   "id": "6ac3156e",
   "metadata": {},
   "outputs": [],
   "source": [
    "6.   How do you tell the difference between the equal to and assignment operators? Describe a condition and when you would use \n",
    "     one.\n",
    "Ans: The ‘=’ is an assignment operator is used to assign the value on the right to the variable on the left. The ‘==’ operator\n",
    "     checks whether the two given operands are equal or not.\n",
    "     For Example: a==10 (Equal Operator)\n",
    "                  a=10  (Assignment Operator)"
   ]
  },
  {
   "cell_type": "code",
   "execution_count": null,
   "id": "01c83aad",
   "metadata": {},
   "outputs": [],
   "source": [
    "7. Identify the three blocks in this code:\n",
    "spam = 0\n",
    "if spam == 10:\n",
    "print('eggs')\n",
    "if spam > 5:\n",
    "print('bacon')\n",
    "else:\n",
    "print('ham')\n",
    "print('spam')\n",
    "print('spam')\n",
    "Ans: ham\n",
    "     spam\n",
    "     spam"
   ]
  },
  {
   "cell_type": "code",
   "execution_count": null,
   "id": "7deda65b",
   "metadata": {},
   "outputs": [],
   "source": [
    "8. Write code that prints Hello if 1 is stored in spam, prints Howdy if 2 is stored in spam, and prints Greetings! \n",
    "if anything else is stored in spam.\n",
    "Ans:\n",
    "\n",
    "spam=2\n",
    "if spam==1:\n",
    "    print(‘hello’)\n",
    "elif spam==2:\n",
    "    print(‘howdy’)\n",
    "else:\n",
    "    print(‘Greetings!’)"
   ]
  },
  {
   "cell_type": "code",
   "execution_count": null,
   "id": "1872c6c8",
   "metadata": {},
   "outputs": [],
   "source": [
    "9.If your programme is stuck in an endless loop, what keys you’ll press?\n",
    "Ans: Ctrl + C"
   ]
  },
  {
   "cell_type": "code",
   "execution_count": null,
   "id": "72d7a5f9",
   "metadata": {},
   "outputs": [],
   "source": [
    "10. How can you tell the difference between break and continue?\n",
    "Ans: Break helps to come out from loop whereas continue increment loop iteration without executing remaining code written \n",
    "     inside loop which comes after continue statement."
   ]
  },
  {
   "cell_type": "code",
   "execution_count": null,
   "id": "35d90834",
   "metadata": {},
   "outputs": [],
   "source": [
    "11.  In a for loop, what is the difference between range(10), range(0, 10), and range(0, 10, 1)?\n",
    "Ans: range(10) – iterate from 0 to 10, here 0 is default starting point of loop, 1 is step size for iterating\n",
    "     range(0, 10) - iterate from 0 to 10, but here 0 pass as a starting point of loop, 1 is default step size for iterating\n",
    "     range(0, 10, 1) – iterate from 0 to 10 where 0 is starting point, 10 is ending point of loop pass as parameter in range \n",
    "                       function and third parameter 1 is the step size for iterating"
   ]
  },
  {
   "cell_type": "code",
   "execution_count": null,
   "id": "2cdbe265",
   "metadata": {},
   "outputs": [],
   "source": [
    "12. Write a short program that prints the numbers 1 to 10 using a for loop. Then write an equivalent program that prints the numbers 1 to 10 using a while loop.\n",
    "Ans: \n",
    ">Using For Loop:\n",
    "    for i in range(1,11):\n",
    "        print(i)\n",
    ">Using while Loop:\n",
    "    i=0\n",
    "    while i<11:\n",
    "        print(i)"
   ]
  },
  {
   "cell_type": "code",
   "execution_count": null,
   "id": "10e3a822",
   "metadata": {},
   "outputs": [],
   "source": [
    "13. If you had a function named bacon() inside a module named spam, how would you call it after importing spam?\n",
    "Ans: import spam\n",
    "     spam.bacon()"
   ]
  }
 ],
 "metadata": {
  "kernelspec": {
   "display_name": "Python 3 (ipykernel)",
   "language": "python",
   "name": "python3"
  },
  "language_info": {
   "codemirror_mode": {
    "name": "ipython",
    "version": 3
   },
   "file_extension": ".py",
   "mimetype": "text/x-python",
   "name": "python",
   "nbconvert_exporter": "python",
   "pygments_lexer": "ipython3",
   "version": "3.9.7"
  }
 },
 "nbformat": 4,
 "nbformat_minor": 5
}
